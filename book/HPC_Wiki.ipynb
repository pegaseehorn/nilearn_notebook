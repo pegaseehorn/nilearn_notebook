{
 "cells": [
  {
   "cell_type": "markdown",
   "id": "92b063ea",
   "metadata": {},
   "source": [
    "# HPC Wiki"
   ]
  },
  {
   "cell_type": "markdown",
   "id": "c4bb883f",
   "metadata": {},
   "source": [
    "## Uploading data to the HPC:\n",
    "\n",
    "<iframe src=\"Mounting File Systems | HPC Wiki.pdf\" width=\"100%\" height=\"600\" frameborder=\"0\" allowfullscreen></iframe>"
   ]
  },
  {
   "cell_type": "markdown",
   "id": "c05a253f",
   "metadata": {},
   "source": [
    "## Using Conda on HPC:\n",
    "\n",
    "<iframe src=\"Virtual Environments and Conda | HPC Wiki.pdf\" width=\"100%\" height=\"600\" frameborder=\"0\" allowfullscreen></iframe>"
   ]
  },
  {
   "cell_type": "markdown",
   "id": "03ab08dd",
   "metadata": {},
   "source": [
    "## Using Neurodesktop on HPC:\n",
    "\n",
    "<iframe src=\"Neurodesktop | HPC Wiki.pdf\" width=\"100%\" height=\"600\" frameborder=\"0\" allowfullscreen></iframe>"
   ]
  }
 ],
 "metadata": {
  "language_info": {
   "name": "python"
  }
 },
 "nbformat": 4,
 "nbformat_minor": 5
}
