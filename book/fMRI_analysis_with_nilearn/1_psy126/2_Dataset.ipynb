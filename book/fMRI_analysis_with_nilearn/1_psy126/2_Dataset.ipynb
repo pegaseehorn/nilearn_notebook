{
 "cells": [
  {
   "cell_type": "markdown",
   "id": "3fe2c39d",
   "metadata": {},
   "source": [
    "# Dataset handling\n",
    "## Importing NiLearn:\n",
    "\n",
    "Like always in python we start by importing the necessary packages:"
   ]
  },
  {
   "cell_type": "code",
   "execution_count": null,
   "id": "0c5113e4",
   "metadata": {},
   "outputs": [],
   "source": [
    "import nilearn"
   ]
  },
  {
   "cell_type": "markdown",
   "id": "6e87be37",
   "metadata": {},
   "source": [
    "## Downloading / importing the dataset:\n",
    "\n",
    "Then we download the dataset to work with during this session."
   ]
  },
  {
   "cell_type": "code",
   "execution_count": null,
   "id": "78836346",
   "metadata": {},
   "outputs": [],
   "source": [
    "# Download language localizer demo dataset.\n",
    "from nilearn.datasets import fetch_language_localizer_demo_dataset\n",
    "\n",
    "data = fetch_language_localizer_demo_dataset(legacy_output=False)"
   ]
  },
  {
   "cell_type": "markdown",
   "id": "e9bbcb03",
   "metadata": {},
   "source": [
    "Alternatively, we can import a dataset from our local hard disk by pointing to the nifti files directly or importing them as a nifti image object via the python package 'nibabel'.\n",
    "\n",
    "Here we show demo code displaying how to input your own BIDS-formatted dataset from your hard disk.\n",
    "Nifty images can be 3D or 4D. A 4D nifty image may for instance represent a time series of 3D images, or contain multiple brain volumes (e.g. from subjects). It can be a list of file names, if these contain 3D information.\n",
    "\n",
    "result_img is a 4D in-memory image, containing the data of both subjects."
   ]
  },
  {
   "cell_type": "code",
   "execution_count": null,
   "id": "3b607235",
   "metadata": {},
   "outputs": [],
   "source": [
    "# BIDS dataset folder contains subject1.nii and subject2.nii\n",
    "from nilearn.image import smooth_img\n",
    "result_img = smooth_img(['~dataset/subject1.nii', '~dataset/subject2.nii'])"
   ]
  },
  {
   "cell_type": "markdown",
   "id": "1ab22991",
   "metadata": {},
   "source": [
    "## Matching multiple files:\n",
    "suppose the dataset folder contains subject_01.nii, subject_03.nii, and subject_03.nii;\n",
    "dataset/subject_*.nii is a glob expression matching all filenames. This way you can import all datasets with a single expression."
   ]
  },
  {
   "cell_type": "code",
   "execution_count": null,
   "id": "f83b6322",
   "metadata": {},
   "outputs": [],
   "source": [
    "result_img = smooth_img(\"~dataset/subject_*.nii\")"
   ]
  },
  {
   "cell_type": "markdown",
   "id": "bdf03e65",
   "metadata": {},
   "source": [
    "## Sanity check:\n",
    "Now we can check, whether the dataset was correctly downloaded by checking its location on the hard disk and disply a short description of the dataset."
   ]
  },
  {
   "cell_type": "code",
   "execution_count": null,
   "id": "4b8b33ba",
   "metadata": {},
   "outputs": [],
   "source": [
    "print(data.data_dir)\n",
    "print(data.description)"
   ]
  }
 ],
 "metadata": {
  "kernelspec": {
   "display_name": "NiLearn",
   "language": "python",
   "name": "python3"
  },
  "language_info": {
   "name": "python",
   "version": "3.13.3"
  }
 },
 "nbformat": 4,
 "nbformat_minor": 5
}
