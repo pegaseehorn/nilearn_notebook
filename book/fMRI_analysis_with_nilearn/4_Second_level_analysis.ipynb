{
 "cells": [
  {
   "cell_type": "markdown",
   "id": "40d7ae5a",
   "metadata": {},
   "source": [
    "# Second (group) level analysis:"
   ]
  },
  {
   "cell_type": "code",
   "execution_count": null,
   "id": "dc2f4386",
   "metadata": {},
   "outputs": [],
   "source": [
    "import io\n",
    "import nbformat\n",
    "\n",
    "def execute_notebook(nbfile):\n",
    "    with io.open(nbfile, encoding=\"utf8\") as f:\n",
    "        nb = nbformat.read(f, as_version=4)\n",
    "\n",
    "    ip = get_ipython()\n",
    "\n",
    "    for cell in nb.cells:\n",
    "        if cell.cell_type != 'code':\n",
    "            continue\n",
    "        ip.run_cell(cell.source)\n",
    "\n",
    "execute_notebook('2_Dataset.ipynb')\n",
    "execute_notebook('3_First_level_analysis1')\n",
    "execute_notebook('3.2_First_level_analysis2')"
   ]
  },
  {
   "cell_type": "code",
   "execution_count": null,
   "id": "3217db63",
   "metadata": {},
   "outputs": [],
   "source": [
    "from nilearn.glm.second_level import SecondLevelModel\n",
    "\n",
    "second_level_input = models"
   ]
  },
  {
   "cell_type": "code",
   "execution_count": null,
   "id": "9aa2ec13",
   "metadata": {},
   "outputs": [],
   "source": [
    "second_level_model = SecondLevelModel(smoothing_fwhm=8.0, n_jobs=2)\n",
    "second_level_model = second_level_model.fit(second_level_input)"
   ]
  },
  {
   "cell_type": "code",
   "execution_count": null,
   "id": "25ac7cd3",
   "metadata": {},
   "outputs": [],
   "source": [
    "zmap = second_level_model.compute_contrast(\n",
    "    first_level_contrast=\"language-string\"\n",
    ")"
   ]
  },
  {
   "cell_type": "code",
   "execution_count": null,
   "id": "11b46eee",
   "metadata": {},
   "outputs": [],
   "source": [
    "plotting.plot_glass_brain(\n",
    "    zmap,\n",
    "    colorbar=True,\n",
    "    threshold=p001_unc,\n",
    "    title=\"Group language network (unc p<0.001)\",\n",
    "    plot_abs=False,\n",
    "    display_mode=\"x\",\n",
    "    figure=plt.figure(figsize=(5, 4)),\n",
    "    cmap=\"bwr\",\n",
    ")\n",
    "plotting.show()"
   ]
  }
 ],
 "metadata": {
  "language_info": {
   "name": "python"
  }
 },
 "nbformat": 4,
 "nbformat_minor": 5
}
