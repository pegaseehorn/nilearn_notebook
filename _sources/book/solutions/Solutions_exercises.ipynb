{
 "cells": [
  {
   "cell_type": "markdown",
   "id": "d452a586",
   "metadata": {},
   "source": [
    "# Advanced Markdown Syntax Exercises\n",
    "These exercises are designed to help you practice more advanced Markdown syntax in Jupyter Notebooks."
   ]
  },
  {
   "cell_type": "markdown",
   "id": "099c846f",
   "metadata": {},
   "source": [
    "### Exercise 1: List, linebreak, and indentation\n",
    "Create an unordered shopping list and organize it by category (e.g., apples → Fruits).\n",
    "\n",
    "Your task:\n",
    "\n",
    "Include at least 3 categories (e.g., Fruits, Vegetables, Snacks).\n",
    "\n",
    "Each category should be a top-level item.\n",
    "\n",
    "Items within each category should be indented as sub-items\n",
    "\n",
    "Leave two blank lines between each category to visually separate them."
   ]
  },
  {
   "cell_type": "markdown",
   "id": "b2e83246",
   "metadata": {},
   "source": [
    "### Exercise 2: Mixed Formatting in Context\n",
    "Write a paragraph that includes **bold text**, *italicized text*, `inline code`, and a [link to OpenAI](https://openai.com).\n",
    "\n",
    "Expected example:\n",
    "```\n",
    "Markdown is a **powerful** tool for *formatting* text in `Jupyter Notebooks`. Learn more at [OpenAI](https://openai.com).\n",
    "```"
   ]
  },
  {
   "cell_type": "markdown",
   "id": "2236ea2d",
   "metadata": {},
   "source": [
    "### Exercise 3S: Nested Lists and Checkboxes\n",
    "Create a nested list of topics and subtopics. Add checkboxes for tasks.\n",
    "\n",
    "Expected output:\n",
    "\n",
    "- Data Science\n",
    "  - [x] Load data\n",
    "  - [ ] Clean data\n",
    "  - [ ] Train model\n",
    "- Web Development\n",
    "  - [x] Setup project\n",
    "  - [ ] Design UI\n",
    "  - [ ] Deploy\n"
   ]
  },
  {
   "cell_type": "markdown",
   "id": "83f041d7",
   "metadata": {},
   "source": [
    "### Exercise 3: Blockquotes and Code Blocks\n",
    "Create a blockquote that includes a code block inside it.\n",
    "\n",
    "Expected output:\n",
    "\n",
    "> Here's a Python example:\n",
    ">\n",
    "> ```python\n",
    "> def hello():\n",
    ">     print(\"Hello, world!\")\n",
    "> ```\n"
   ]
  },
  {
   "cell_type": "markdown",
   "id": "9d635dd8",
   "metadata": {},
   "source": [
    "### Volountary exercise 1: Tables and Images with Captions\n",
    "Create a table comparing three Markdown features. Then, add an image below with a caption using HTML.\n",
    "\n",
    "Expected output:\n",
    "\n",
    "| Feature     | Syntax Example       | Description              |\n",
    "|-------------|----------------------|--------------------------|\n",
    "| Bold        | `**bold**`           | Makes text bold          |\n",
    "| Italic      | `*italic*`           | Makes text italic        |\n",
    "| Code block  | ```` ```python ````  | Formats code             |\n",
    "\n",
    "<img src='https://thumbs.dreamstime.com/b/young-conceptual-image-large-stone-shape-human-brain-conceptual-image-large-stone-shape-110748113.jpg' width='300'><br><sub>Figure 1: Example of a fractal</sub>\n"
   ]
  },
  {
   "cell_type": "markdown",
   "id": "d4f6b7af",
   "metadata": {},
   "source": []
  }
 ],
 "metadata": {
  "language_info": {
   "name": "python"
  }
 },
 "nbformat": 4,
 "nbformat_minor": 5
}
