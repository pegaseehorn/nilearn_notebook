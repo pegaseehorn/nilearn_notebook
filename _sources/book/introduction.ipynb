{
 "cells": [
  {
   "cell_type": "markdown",
   "id": "73fe1832",
   "metadata": {},
   "source": [
    "# Welcome to our session on fMRI analysis with NiLearn in Python!\n",
    "\n",
    "This book contains content for today's lecture on how to do statistical analysis of fMRI data in Python with the NiLearn package.\n",
    "\n",
    "\n",
    "::::{grid} 1 1 2 3\n",
    ":class-container: text-center\n",
    ":gutter: 3\n",
    "\n",
    ":::{grid-item-card}\n",
    ":class-body: text-center\n",
    ":class-header: bg-light text-center\n",
    ":link: ./fMRI_analysis_with_nilearn/1_psy126/0_Landing_page\n",
    ":link-type: doc\n",
    "Today's session ⛅️\n",
    "^^^\n",
    "```{image} https://encrypted-tbn0.gstatic.com/images?q=tbn:ANd9GcS9E5HZlsBUfIyQdZy53DBNd5c9aIxECWdFww&s\n",
    ":height: 100\n",
    "```\n",
    "+++\n",
    "Explore the session {fas}`arrow-right`\n",
    ":::\n",
    "\n",
    ":::{grid-item-card}\n",
    ":class-body: text-center\n",
    ":class-header: bg-light text-center\n",
    ":link: ./solutions/solutions_file\n",
    ":link-type: doc\n",
    "Exercise solutions 📋\n",
    "^^^\n",
    "```{image}  ../logo_template.png\n",
    ":height: 100\n",
    "```\n",
    "+++\n",
    "Look at the solutions {fas}`arrow-right`\n",
    ":::\n",
    "\n",
    ":::{grid-item-card}\n",
    ":class-body: text-center\n",
    ":class-header: bg-light text-center\n",
    ":link: ../references\n",
    ":link-type: doc\n",
    "References 📚\n",
    "^^^\n",
    "```{image} https://thumbs.dreamstime.com/b/statistics-linear-icon-modern-outline-logo-concept-o-white-background-business-analytics-collection-suitable-use-133515482.jpg\n",
    ":height: 100\n",
    "```\n",
    "+++\n",
    "Look at the references {fas}`arrow-right`\n",
    ":::\n",
    "\n",
    "::::\n",
    "\n",
    "### Useful links:\n",
    "- [NiLearn documentation](https://nilearn.github.io/)\n",
    "- [Demo course using NiLearn](https://lukas-snoek.com/NI-edu/)"
   ]
  }
 ],
 "metadata": {
  "jupytext": {
   "formats": "md:myst",
   "text_representation": {
    "extension": ".md",
    "format_name": "myst",
    "format_version": 0.13,
    "jupytext_version": "1.11.5"
   }
  },
  "kernelspec": {
   "display_name": "Python 3",
   "language": "python",
   "name": "python3"
  },
  "source_map": [
   13
  ]
 },
 "nbformat": 4,
 "nbformat_minor": 5
}