{
 "cells": [
  {
   "cell_type": "markdown",
   "id": "92b063ea",
   "metadata": {},
   "source": [
    "# HPC Wiki"
   ]
  },
  {
   "cell_type": "markdown",
   "id": "c4bb883f",
   "metadata": {},
   "source": [
    "## Uploading data to the HPC:\n",
    "\n",
    "[📄 Click here to download and open the wiki article](./figures/Mounting File Systems | HPC Wiki.pdf)"
   ]
  },
  {
   "cell_type": "markdown",
   "id": "c05a253f",
   "metadata": {},
   "source": [
    "## Using Conda on HPC:\n",
    "\n",
    "[📄 Click here to download and open the wiki article](./figures/Virtual Environments and Conda | HPC Wiki.pdf)"
   ]
  },
  {
   "cell_type": "markdown",
   "id": "03ab08dd",
   "metadata": {},
   "source": [
    "## Using Neurodesktop on HPC:\n",
    "\n",
    "[📄 Click here to download and open the wiki article](./figures/Neurodesktop | HPC Wiki.pdf)"
   ]
  }
 ],
 "metadata": {
  "language_info": {
   "name": "python"
  }
 },
 "nbformat": 4,
 "nbformat_minor": 5
}
