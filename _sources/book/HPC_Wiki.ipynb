{
 "cells": [
  {
   "cell_type": "markdown",
   "id": "1e12ef1e",
   "metadata": {},
   "source": [
    "# HPC Wiki\n",
    "## Uploading data to the HPC:\n",
    "[📄 Click here to download and open the wiki article](./figures/Mounting File Systems | HPC Wiki.pdf)\n",
    "\n",
    "## Using Conda on HPC:\n",
    "[📄 Click here to download and open the wiki article](./figures/Virtual Environments and Conda | HPC Wiki.pdf)\n",
    "\n",
    "## Using Neurodesktop on HPC:\n",
    "[📄 Click here to download and open the wiki article](./figures/Neurodesktop | HPC Wiki.pdf)"
   ]
  }
 ],
 "metadata": {
  "jupytext": {
   "formats": "md:myst",
   "text_representation": {
    "extension": ".md",
    "format_name": "myst",
    "format_version": 0.13,
    "jupytext_version": "1.11.5"
   }
  },
  "kernelspec": {
   "display_name": "Python 3",
   "language": "python",
   "name": "python3"
  },
  "source_map": [
   13
  ]
 },
 "nbformat": 4,
 "nbformat_minor": 5
}