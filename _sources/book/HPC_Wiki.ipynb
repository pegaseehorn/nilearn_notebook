{
 "cells": [
  {
   "cell_type": "markdown",
   "id": "b62aec19",
   "metadata": {},
   "source": [
    "# HPC Wiki\n",
    "## Uploading data to the HPC:\n",
    "<iframe src=\"https://pegaseehorn.github.io/nilearn_notebook/book/fMRI_analysis_with_nilearn/figures/Mounting_File_Systems_HPC_Wiki.pdf\" width=\"100%\" height=\"600\" frameborder=\"0\" allowfullscreen></iframe>\n",
    "\n",
    "## Using Conda on HPC:\n",
    "[📄 Click here to download and open the wiki article](./figures/Virtual Environments and Conda HPC Wiki.pdf)\n",
    "\n",
    "## Using Neurodesktop on HPC:\n",
    "[📄 Click here to download and open the wiki article](./figures/Neurodesktop | HPC Wiki.pdf)"
   ]
  }
 ],
 "metadata": {
  "jupytext": {
   "formats": "md:myst",
   "text_representation": {
    "extension": ".md",
    "format_name": "myst",
    "format_version": 0.13,
    "jupytext_version": "1.11.5"
   }
  },
  "kernelspec": {
   "display_name": "Python 3",
   "language": "python",
   "name": "python3"
  },
  "source_map": [
   13
  ]
 },
 "nbformat": 4,
 "nbformat_minor": 5
}