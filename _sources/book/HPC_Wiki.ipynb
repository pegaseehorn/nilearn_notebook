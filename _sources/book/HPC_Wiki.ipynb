{
 "cells": [
  {
   "cell_type": "markdown",
   "id": "ba4545c5",
   "metadata": {},
   "source": [
    "# HPC Wiki\n",
    "## Uploading data to the HPC:\n",
    "<iframe src=\"https://drive.google.com/file/d/1TAkaiJN1UfFvToH-JKN8uafHCfXssYKC/preview\" width=\"100%\" height=\"600\" frameborder=\"0\" allowfullscreen></iframe>\n",
    "\n",
    "## Using Conda on HPC:\n",
    "<iframe src=\"https://drive.google.com/file/d/1Ldbn6mWo3QjKaoPcR0rYIZ7-H_um2NkG/preview\" width=\"100%\" height=\"600\" frameborder=\"0\" allowfullscreen></iframe>\n",
    "\n",
    "## Using Neurodesktop on HPC:\n",
    "<iframe src=\"https://drive.google.com/file/d/1mUvB8uUW8VLVKEg8Lu0Fw4Bwz7E7l4uc/preview\" width=\"100%\" height=\"600\" frameborder=\"0\" allowfullscreen></iframe>"
   ]
  }
 ],
 "metadata": {
  "jupytext": {
   "formats": "md:myst",
   "text_representation": {
    "extension": ".md",
    "format_name": "myst",
    "format_version": 0.13,
    "jupytext_version": "1.11.5"
   }
  },
  "kernelspec": {
   "display_name": "Python 3",
   "language": "python",
   "name": "python3"
  },
  "source_map": [
   13
  ]
 },
 "nbformat": 4,
 "nbformat_minor": 5
}