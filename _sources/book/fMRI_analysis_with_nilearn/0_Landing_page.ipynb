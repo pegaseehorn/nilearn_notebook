{
 "cells": [
  {
   "cell_type": "markdown",
   "id": "89a876ac",
   "metadata": {},
   "source": [
    "# <i class=\"fa-solid fa-earth-europe\"></i> Welcome to the session on fMRI analyis with NiLearn in Python!\n",
    "\n",
    "\n",
    "<iframe src=\"https://drive.google.com/file/d/1VCmdiTL-lTuWh1fCJKYlUQ3a19tCe7t2/preview\" width=\"100%\" height=\"600\" frameborder=\"0\" allowfullscreen></iframe>\n",
    "\n",
    "\n",
    "[📄 Click here to download and open the Slides](./figures/S01_Introduction_to_IPYNB.pdf)"
   ]
  }
 ],
 "metadata": {
  "jupytext": {
   "formats": "md:myst",
   "text_representation": {
    "extension": ".md",
    "format_name": "myst",
    "format_version": 0.13,
    "jupytext_version": "1.11.5"
   }
  },
  "kernelspec": {
   "display_name": "Python 3",
   "language": "python",
   "name": "python3"
  },
  "source_map": [
   13
  ]
 },
 "nbformat": 4,
 "nbformat_minor": 5
}