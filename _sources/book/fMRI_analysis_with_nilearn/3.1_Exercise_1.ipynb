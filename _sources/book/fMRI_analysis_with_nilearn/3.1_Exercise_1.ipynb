{
 "cells": [
  {
   "cell_type": "markdown",
   "id": "d452a586",
   "metadata": {},
   "source": [
    "# Exercise break 1 - Design matrix\n",
    "We will work through the exercises at the end of the session.  \n",
    "Please form 6 groups of roughly equal size.  \n",
    "First, work through each exercise, starting with the exercise according to your group number.\n",
    "Then, each group will prepare a solution to present to the class their exercise to the class.\n",
    "\n",
    "You may find it helpful to look up specific functions or explanations in the NiLearn documentation. It is linked on the landing page of the Jupyter Notebook for today.\n",
    "\n",
    "In general, the aim is to learn about how to use NiLearn, make sense of different parameters, and to understand the implications of the choices made during the analysis."
   ]
  },
  {
   "cell_type": "markdown",
   "id": "a73b3114",
   "metadata": {},
   "source": [
    "## Exercise 1 - Group 1:\n",
    "In our analysis we compare the condition 'language' with thecondition  'string'. We do this by utilising a contrast.\n",
    "1. What do those conditions mean in the context of the experiment?\n",
    "2. Where in the code is the contrast specified?\n",
    "3. First, try to change the contrasts so that condition 'language' is compared to the baseline. Then do the same for condition 'string'. Plot both results and compare the plots. What changes can you observe? Interpret them.\n",
    "4. Can you write down design matrixes for each condition? The design matrix for subject one in figure 1 can help you with that.\n",
    "\n",
    "    If you can, you can also plot those first level analysis design matrixes with NiLearn. The function can be looked up in the documentation.\n",
    "\n",
    "\n",
    "Figure 1:\n",
    "\n",
    "![figure 1](./figures/figure_1.png)"
   ]
  }
 ],
 "metadata": {
  "language_info": {
   "name": "python"
  }
 },
 "nbformat": 4,
 "nbformat_minor": 5
}
