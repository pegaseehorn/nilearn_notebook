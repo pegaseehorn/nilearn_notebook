{
 "cells": [
  {
   "cell_type": "markdown",
   "id": "8c26306e",
   "metadata": {},
   "source": [
    "# First (single) level analysis:"
   ]
  },
  {
   "cell_type": "code",
   "execution_count": null,
   "id": "7eaafb56",
   "metadata": {},
   "outputs": [],
   "source": [
    "from nilearn.glm.first_level import first_level_from_bids\n",
    "\n",
    "task_label = \"languagelocalizer\"\n",
    "(\n",
    "    models,\n",
    "    models_run_imgs,\n",
    "    models_events,\n",
    "    models_confounds,\n",
    ") = first_level_from_bids(\n",
    "    data.data_dir,                     # path to dataset\n",
    "    task_label,\n",
    "    img_filters=[(\"desc\", \"preproc\")],\n",
    "    n_jobs=2,\n",
    "    space_label=\"\",\n",
    "    sub_labels=[\"01\", \"02\", \"03\", \"04\"],  # comment to run all subjects\n",
    ")"
   ]
  },
  {
   "cell_type": "code",
   "execution_count": null,
   "id": "756c6982",
   "metadata": {},
   "outputs": [],
   "source": [
    "from nilearn import plotting\n",
    "\n",
    "# Assuming you have already run first_level_from_bids\n",
    "for i, model in enumerate(models):\n",
    "    print(enumerate(models))\n",
    "    # Fit the model before accessing design_matrices_\n",
    "    model.fit(models_run_imgs[i], models_events[i], models_confounds[i])\n",
    "\n",
    "    print(f\"Subject {i+1}: Design Matrix\")\n",
    "    design_matrix = model.design_matrices_[0]  # Design matrix of first run\n",
    "    plotting.plot_design_matrix(design_matrix)\n",
    "    # Display the first few rows\n",
    "    print(design_matrix.head())"
   ]
  },
  {
   "cell_type": "code",
   "execution_count": null,
   "id": "539808e0",
   "metadata": {},
   "outputs": [],
   "source": [
    "from pathlib import Path\n",
    "\n",
    "print([Path(run).name for run in models_run_imgs[0]])"
   ]
  },
  {
   "cell_type": "code",
   "execution_count": null,
   "id": "2a9899d5",
   "metadata": {},
   "outputs": [],
   "source": [
    "print(models_confounds[0][0].columns)"
   ]
  },
  {
   "cell_type": "code",
   "execution_count": null,
   "id": "5369de2c",
   "metadata": {},
   "outputs": [],
   "source": [
    "print(models_events[0][0][\"trial_type\"].value_counts())"
   ]
  },
  {
   "cell_type": "code",
   "execution_count": null,
   "id": "63ea7ffa",
   "metadata": {},
   "outputs": [],
   "source": [
    "from scipy.stats import norm\n",
    "\n",
    "p001_unc = norm.isf(0.001)"
   ]
  },
  {
   "cell_type": "code",
   "execution_count": null,
   "id": "7a891838",
   "metadata": {},
   "outputs": [],
   "source": [
    "from math import ceil\n",
    "\n",
    "import matplotlib.pyplot as plt\n",
    "import numpy as np\n",
    "from nilearn import plotting # import plotting here\n",
    "\n",
    "ncols = 3\n",
    "nrows = ceil(len(models) / ncols)\n",
    "\n",
    "fig, axes = plt.subplots(nrows=nrows, ncols=ncols, figsize=(8, 4.5))\n",
    "axes = np.atleast_2d(axes)\n",
    "model_and_args = zip(models, models_run_imgs, models_events, models_confounds)\n",
    "for midx, (model, imgs, events, confounds) in enumerate(model_and_args):\n",
    "    # fit the GLM\n",
    "    model.fit(imgs, events, confounds)\n",
    "    # compute the contrast of interest\n",
    "    zmap = model.compute_contrast(\"language-string\")\n",
    "    plotting.plot_glass_brain(\n",
    "        zmap,\n",
    "        colorbar=False,\n",
    "        threshold=p001_unc,\n",
    "        title=f\"sub-{model.subject_label}\",\n",
    "        axes=axes[int(midx / ncols), int(midx % ncols)],\n",
    "        plot_abs=False,\n",
    "        display_mode=\"x\",\n",
    "        cmap=\"bwr\",\n",
    "    )\n",
    "fig.suptitle(\"subjects z_map language network (unc p<0.001)\")\n",
    "plotting.show()"
   ]
  }
 ],
 "metadata": {
  "language_info": {
   "name": "python"
  }
 },
 "nbformat": 4,
 "nbformat_minor": 5
}
