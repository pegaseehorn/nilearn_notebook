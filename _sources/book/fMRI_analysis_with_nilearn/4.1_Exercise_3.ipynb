{
 "cells": [
  {
   "cell_type": "markdown",
   "id": "352da8da",
   "metadata": {},
   "source": [
    "# Exercise 3 - Interpretation of second level analysis output plot:"
   ]
  }
 ],
 "metadata": {
  "language_info": {
   "name": "python"
  }
 },
 "nbformat": 4,
 "nbformat_minor": 5
}
