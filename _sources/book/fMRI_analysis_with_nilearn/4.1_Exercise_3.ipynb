{
 "cells": [
  {
   "cell_type": "markdown",
   "id": "352da8da",
   "metadata": {},
   "source": [
    "# Exercise break 3 - Second level analysis:"
   ]
  },
  {
   "cell_type": "markdown",
   "id": "be9f97c4",
   "metadata": {},
   "source": [
    "## Exercise 4 - Group 4:\n",
    "What is the p-value we use in our second level analysis? (Hint: look at figure 2)\n",
    "1. Where in the code is the parameter that sets this value? Can you change it?\n",
    "2. Try out a few different values and plot them. What changes?\n",
    "3. What is a good p-value for the second level analysis? Keep the multiple testing problem in mind.\n",
    "4. We use an uncorrected p-value. What methods can we use to correct a p-value? Can you find out how one can apply them with NiLearn?\n",
    "\n",
    "Figure 3:\n",
    "![figure 3](./figures/figure_3.png)"
   ]
  },
  {
   "cell_type": "markdown",
   "id": "e7886f73",
   "metadata": {},
   "source": [
    "## Exercise 5 - Group 5:\n",
    "In our second level analysis we can specify a smoothing parameter \"smoothing_fwhm\".\n",
    "1. Where can we specifiy this parameter in the code? What is the purpose of this parameter? (Hint: use the documentation)\n",
    "2. Try a few different values for the smoothing parameter an plot them. What changes in the plots?\n",
    "3. What are the advantages/disadvantages is using small/large smoothing parameters? Which values would you prefer in which situation?"
   ]
  },
  {
   "cell_type": "markdown",
   "id": "7ebbc183",
   "metadata": {},
   "source": [
    "## Exercise 6 (Advanced, for Python pros) - Group 6:\n",
    "In our analysis we manually decreased the p-value to 0.001 to adjust the error-rate for the multiple testing problem.\n",
    "1. Can we use NiLearn to do this automatically? What are the two functions that NiLearn provides for that? (Hint: look at the documentation)\n",
    "2. What is the best correction method? Extend the code so that this correction method is applied.\n",
    "3. What effect does the correction have on a p-value of 0.05? Plot two second level analysis output plots side-by-side, one with the uncorrected p-value and the other for the corrected p-value."
   ]
  }
 ],
 "metadata": {
  "language_info": {
   "name": "python"
  }
 },
 "nbformat": 4,
 "nbformat_minor": 5
}
