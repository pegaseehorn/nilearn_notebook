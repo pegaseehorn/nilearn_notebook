{
 "cells": [
  {
   "cell_type": "markdown",
   "id": "7f30a714",
   "metadata": {},
   "source": [
    "# Setup coding environment\n",
    "\n",
    "For easy coding environment management we use Anaconda / miniconda.\n",
    "\n",
    "You should have the following programmes installed:\n",
    "\n",
    "- Anaconda (miniconda)\n",
    "- Code editor (e.g. Visual Studio code, Spyder)\n",
    "\n",
    "If not, please follow the installation instructions from the [psy111](https://mibur1.github.io/psy111/book/introduction/1_Setup/0_Introduction.html) module by Micha Burkhard.\n",
    "\n",
    "<br >\n",
    "<br >\n",
    "\n",
    "We start by setting up a new conda environment for using NiLearn. \n",
    "\n",
    "In the Miniconda prompt let's first ensure that we install the necessary dependencies from an up-to-date and reliable source. We’ll do this by adding the conda-forge channel and setting it as the default with strict priority.\n",
    "\n",
    "```bash\n",
    "conda config --add channels conda-forge\n",
    "```\n",
    "```bash\n",
    "conda config --set channel_priority strict\n",
    "```\n",
    "\n",
    "<br >\n",
    "<br >\n",
    "\n",
    "Now we can create a new Conda environment and activate it:\n",
    "\n",
    "\n",
    "```bash\n",
    "conda create -n NiLearn python\n",
    "```\n",
    "```bash\n",
    "conda activate NiLearn\n",
    "```\n",
    "\n",
    "If the environment now shows up as `(NiLearn)`, you are ready to install the required Python packages for using NiLearn:\n",
    "\n",
    "```bash\n",
    "pip install nilearn\n",
    "```"
   ]
  }
 ],
 "metadata": {
  "jupytext": {
   "formats": "md:myst",
   "text_representation": {
    "extension": ".md",
    "format_name": "myst",
    "format_version": 0.13,
    "jupytext_version": "1.11.5"
   }
  },
  "kernelspec": {
   "display_name": "Python 3",
   "language": "python",
   "name": "python3"
  },
  "source_map": [
   13
  ]
 },
 "nbformat": 4,
 "nbformat_minor": 5
}