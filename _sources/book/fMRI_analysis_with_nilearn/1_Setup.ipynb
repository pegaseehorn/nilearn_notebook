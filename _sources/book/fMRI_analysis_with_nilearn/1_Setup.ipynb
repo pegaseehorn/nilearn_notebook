{
 "cells": [
  {
   "cell_type": "markdown",
   "id": "2f13095d",
   "metadata": {},
   "source": [
    "We can either run the code locally with Python installed on our own machine, or utilise the universities' High Performance Compute (HPC) cluster. Two options are described in this Jupyter Notebook.\n",
    "\n",
    "\n",
    "# Setup coding environment\n",
    "\n",
    "## Local code execution:\n",
    "If you decide to run the code locally you can follow the guide here:\n",
    "For easy coding environment management we can use Anaconda / miniconda.\n",
    "\n",
    "You should have the following programmes installed:\n",
    "\n",
    "- Anaconda (miniconda)\n",
    "- Code editor (e.g. Visual Studio code, Spyder)\n",
    "\n",
    "If not, please follow the installation instructions from the [psy111](https://mibur1.github.io/psy111/book/introduction/1_Setup/0_Introduction.html) module by Micha Burkhard.\n",
    "\n",
    "<br >\n",
    "<br >\n",
    "\n",
    "We start by setting up a new conda environment for using NiLearn. \n",
    "\n",
    "In the Miniconda prompt let's first ensure that we install the necessary dependencies from an up-to-date and reliable source. We’ll do this by adding the conda-forge channel and setting it as the default with strict priority.\n",
    "\n",
    "```bash\n",
    "conda config --add channels conda-forge\n",
    "```\n",
    "```bash\n",
    "conda config --set channel_priority strict\n",
    "```\n",
    "\n",
    "<br >\n",
    "<br >\n",
    "\n",
    "Now we can create a new Conda environment and activate it:\n",
    "\n",
    "\n",
    "```bash\n",
    "conda create -n NiLearn python\n",
    "```\n",
    "```bash\n",
    "conda activate NiLearn\n",
    "```\n",
    "\n",
    "If the environment now shows up as `(NiLearn)`, you are ready to install the required Python packages for using NiLearn:\n",
    "\n",
    "```bash\n",
    "pip install nilearn\n",
    "```\n",
    "\n",
    "## HPC option:\n",
    "Preferably, we use the high performance compute (HPC) cluster to run our code. The notebook for today is split into different chapters for easy explanation and organisation. But, this also makes it tedious to upload and use the code on the HPC. So, for that you can use the unified code version that you can find in the table of contents under 'HPC version'.\n",
    "\n",
    "You can either run NiLearn directly in Python on the HPC, for that see the HPC Wiki entry on Conda on the HPC linked in the 'HPC Wiki' section.\n",
    "\n",
    "Today we run the Jupyter Notebook directly in Neurodesk on the HPC:\n",
    "\n",
    "1. (Optional step) Upload the participant data to the HPC either via Nextcloud or SMB. (For more information, look at the HPC Wiki support article linked in this Jupyter Notebook)\n",
    "2. Start Neurodesk on the HPC (For more information, look at the HPC Wiki support article linked in this Jupyter Notebook)\n",
    "3. Enter the Neurodesk GUI.\n",
    "4. Use Neurodesk to open and run the 'HPC_Version.ipynb' Jupyter Notebook."
   ]
  }
 ],
 "metadata": {
  "jupytext": {
   "formats": "md:myst",
   "text_representation": {
    "extension": ".md",
    "format_name": "myst",
    "format_version": 0.13,
    "jupytext_version": "1.11.5"
   }
  },
  "kernelspec": {
   "display_name": "Python 3",
   "language": "python",
   "name": "python3"
  },
  "source_map": [
   13
  ]
 },
 "nbformat": 4,
 "nbformat_minor": 5
}