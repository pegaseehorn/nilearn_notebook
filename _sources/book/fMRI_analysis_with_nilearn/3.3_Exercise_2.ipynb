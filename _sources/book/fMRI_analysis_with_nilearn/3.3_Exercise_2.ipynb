{
 "cells": [
  {
   "cell_type": "markdown",
   "id": "a5747e9e",
   "metadata": {},
   "source": [
    "# Exercise break 2 - First level analysis:"
   ]
  },
  {
   "cell_type": "markdown",
   "id": "6ee0a39f",
   "metadata": {},
   "source": [
    "## Exercise 2 - Group 2:\n",
    "In figure 2 you can see the z-maps of our participants for an uncorrected p-value of < 0.001.\n",
    "1. Change the p-value to a different one and re-generate the figure.\n",
    "2. What changes?\n",
    "3. What is a good value for the uncorrected p-value and why? Remember the multiple testing problem.\n",
    "\n",
    "Figure 2:\n",
    "![figure 2](./figures/figure_2.png)"
   ]
  },
  {
   "cell_type": "markdown",
   "id": "8bcb85ed",
   "metadata": {},
   "source": [
    "## Exercise 3 - Group 3:\n",
    "As you can see in figure one, we are currently running our analysis on four participants.\n",
    "1. Can you point out the section of code that is responsible for this sub-selection of participants? How many participants did our dataset originally include?\n",
    "2. Try to re-run the analysis with a different number of participants and plot the output.\n",
    "3. It takes a lot of time to run the analysis on many participants, can the processing time be reduced? Please find the specific parameter and try out different values."
   ]
  }
 ],
 "metadata": {
  "language_info": {
   "name": "python"
  }
 },
 "nbformat": 4,
 "nbformat_minor": 5
}
