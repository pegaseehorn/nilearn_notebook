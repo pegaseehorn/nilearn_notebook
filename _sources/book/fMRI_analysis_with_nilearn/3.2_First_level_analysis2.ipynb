{
 "cells": [
  {
   "cell_type": "markdown",
   "id": "8c26306e",
   "metadata": {},
   "source": [
    "# First (single) level analysis - Part 2:"
   ]
  },
  {
   "cell_type": "code",
   "execution_count": null,
   "id": "a3ef4125",
   "metadata": {},
   "outputs": [],
   "source": [
    "import io\n",
    "import nbformat\n",
    "\n",
    "def execute_notebook(nbfile):\n",
    "    with io.open(nbfile, encoding=\"utf8\") as f:\n",
    "        nb = nbformat.read(f, as_version=4)\n",
    "\n",
    "    ip = get_ipython()\n",
    "\n",
    "    for cell in nb.cells:\n",
    "        if cell.cell_type != 'code':\n",
    "            continue\n",
    "        ip.run_cell(cell.source)\n",
    "\n",
    "execute_notebook('2_Dataset.ipynb')\n",
    "execute_notebook('3_First_level_analysis1')"
   ]
  },
  {
   "cell_type": "code",
   "execution_count": null,
   "id": "539808e0",
   "metadata": {},
   "outputs": [],
   "source": [
    "from pathlib import Path\n",
    "\n",
    "print([Path(run).name for run in models_run_imgs[0]])"
   ]
  },
  {
   "cell_type": "code",
   "execution_count": null,
   "id": "2a9899d5",
   "metadata": {},
   "outputs": [],
   "source": [
    "print(models_confounds[0][0].columns)"
   ]
  },
  {
   "cell_type": "code",
   "execution_count": null,
   "id": "5369de2c",
   "metadata": {},
   "outputs": [],
   "source": [
    "print(models_events[0][0][\"trial_type\"].value_counts())"
   ]
  },
  {
   "cell_type": "code",
   "execution_count": null,
   "id": "63ea7ffa",
   "metadata": {},
   "outputs": [],
   "source": [
    "from scipy.stats import norm\n",
    "\n",
    "p001_unc = norm.isf(0.001)"
   ]
  },
  {
   "cell_type": "code",
   "execution_count": null,
   "id": "7a891838",
   "metadata": {},
   "outputs": [],
   "source": [
    "from math import ceil\n",
    "\n",
    "import matplotlib.pyplot as plt\n",
    "import numpy as np\n",
    "from nilearn import plotting # import plotting here\n",
    "\n",
    "ncols = 3\n",
    "nrows = ceil(len(models) / ncols)\n",
    "\n",
    "fig, axes = plt.subplots(nrows=nrows, ncols=ncols, figsize=(8, 4.5))\n",
    "axes = np.atleast_2d(axes)\n",
    "model_and_args = zip(models, models_run_imgs, models_events, models_confounds)\n",
    "for midx, (model, imgs, events, confounds) in enumerate(model_and_args):\n",
    "    # fit the GLM\n",
    "    model.fit(imgs, events, confounds)\n",
    "    # compute the contrast of interest\n",
    "    zmap = model.compute_contrast(\"language-string\")\n",
    "    plotting.plot_glass_brain(\n",
    "        zmap,\n",
    "        colorbar=False,\n",
    "        threshold=p001_unc,\n",
    "        title=f\"sub-{model.subject_label}\",\n",
    "        axes=axes[int(midx / ncols), int(midx % ncols)],\n",
    "        plot_abs=False,\n",
    "        display_mode=\"x\",\n",
    "        cmap=\"bwr\",\n",
    "    )\n",
    "fig.suptitle(\"subjects z_map language network (unc p<0.001)\")\n",
    "plotting.show()"
   ]
  }
 ],
 "metadata": {
  "language_info": {
   "name": "python"
  }
 },
 "nbformat": 4,
 "nbformat_minor": 5
}
