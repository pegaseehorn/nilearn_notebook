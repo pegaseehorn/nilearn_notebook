{
 "cells": [
  {
   "cell_type": "markdown",
   "id": "d452a586",
   "metadata": {},
   "source": [
    "# Exercises\n",
    "These exercises are designed to help you practice more advanced Markdown syntax in Jupyter Notebooks."
   ]
  },
  {
   "cell_type": "markdown",
   "id": "099c846f",
   "metadata": {},
   "source": [
    "## Exercise 1: List, linebreak, and indentation\n",
    "Create an unordered shopping list grouped into at least 3 categories (e.g. Fruits, Dairy).\n",
    "\n",
    "Use top-level bullets for categories.\n",
    "\n",
    "Indent items under each category.\n",
    "\n",
    "Leave a blank line between categories."
   ]
  },
  {
   "cell_type": "markdown",
   "id": "b2e83246",
   "metadata": {},
   "source": [
    "## Exercise 2: Mixed Formatting in Context\n",
    "Write a paragraph that includes bold text, italicized text, inline code, and a link to a website"
   ]
  },
  {
   "cell_type": "markdown",
   "id": "2236ea2d",
   "metadata": {},
   "source": [
    "## Exercise 3: Nested Lists and Checkboxes\n",
    "Create a nested list of topics and subtopics. Add checkboxes for tasks.S"
   ]
  },
  {
   "cell_type": "markdown",
   "id": "83f041d7",
   "metadata": {},
   "source": [
    "## Exercise 4: Blockquotes and Code Blocks\n",
    "Create a blockquote that includes a code block inside it.\n",
    "\n",
    "Example: def hello():\n",
    "     print(\"Hello, world!\")\n"
   ]
  },
  {
   "cell_type": "markdown",
   "id": "9d635dd8",
   "metadata": {},
   "source": [
    "## Volountary exercise 1: Tables and Images with Captions\n",
    "Create a table comparing three Markdown features. Then, add an image below with a caption using HTML.\n"
   ]
  },
  {
   "cell_type": "markdown",
   "id": "d4f6b7af",
   "metadata": {},
   "source": []
  }
 ],
 "metadata": {
  "language_info": {
   "name": "python"
  }
 },
 "nbformat": 4,
 "nbformat_minor": 5
}
